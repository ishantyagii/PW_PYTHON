{
 "cells": [
  {
   "cell_type": "code",
   "execution_count": null,
   "id": "a3425db2-7321-4787-9671-d72e4aceeedd",
   "metadata": {},
   "outputs": [],
   "source": [
    "### Problem 1: Reverse a singly linked list."
   ]
  },
  {
   "cell_type": "code",
   "execution_count": 27,
   "id": "3df6e64d-e902-49c8-92a6-c0786a82c34e",
   "metadata": {},
   "outputs": [],
   "source": [
    "class Node :\n",
    "\n",
    "  def __init__(self,data=None, next=None):\n",
    "    self.data = data\n",
    "    self.next = next\n",
    "\n",
    "  #Method to set the data value\n",
    "  def setData(self,data):\n",
    "    self.data = data\n",
    "\n",
    "  #method to get the data value\n",
    "  def getData(self):\n",
    "    return self.data\n",
    "\n",
    "  #Method of set the next\n",
    "  def setNext(self, next):\n",
    "    self.next = next\n",
    "\n",
    "  #Method to get the next\n",
    "  def getNext(self):\n",
    "    return self.next\n",
    "        \n"
   ]
  },
  {
   "cell_type": "code",
   "execution_count": 28,
   "id": "4f4490ce-5288-4e78-b2f2-0112abc5317d",
   "metadata": {},
   "outputs": [],
   "source": [
    "def rev(head):\n",
    "    temp=None\n",
    "    curr=head\n",
    "    while curr is not None:\n",
    "        next=curr.getNext()\n",
    "        curr.setNext(temp)\n",
    "        temp=curr\n",
    "        curr=next\n",
    "    head=temp\n",
    "    return head\n",
    "    "
   ]
  },
  {
   "cell_type": "code",
   "execution_count": 29,
   "id": "2646daaf-2e5e-4ab5-a598-eaab5426ddfe",
   "metadata": {},
   "outputs": [],
   "source": [
    "head=Node(1)\n",
    "Nod2=Node(2)\n",
    "Nod3=Node(3)\n",
    "head.setNext(Nod2)\n",
    "Nod2.setNext(Nod3)\n"
   ]
  },
  {
   "cell_type": "code",
   "execution_count": 30,
   "id": "89ec0dd2-cc4e-49a0-8c93-2375f91640a9",
   "metadata": {},
   "outputs": [
    {
     "name": "stdout",
     "output_type": "stream",
     "text": [
      "1->2->3->"
     ]
    }
   ],
   "source": [
    "def traverse(head):\n",
    "  temp = head\n",
    "  while(temp):\n",
    "    print(temp.getData(),end=\"->\")\n",
    "    temp = temp.getNext() #jump to the next node\n",
    "\n",
    "traverse(head)"
   ]
  },
  {
   "cell_type": "code",
   "execution_count": 31,
   "id": "2850a58a-2221-4ce4-95d5-6c81b0e1124a",
   "metadata": {},
   "outputs": [
    {
     "name": "stdout",
     "output_type": "stream",
     "text": [
      "3->2->1->"
     ]
    }
   ],
   "source": [
    "headd = rev(head)\n",
    "traverse(headd)"
   ]
  },
  {
   "cell_type": "markdown",
   "id": "df45562e-fdc1-4320-a9ac-03a236f0592c",
   "metadata": {},
   "source": [
    "### Problem 2: Merge two sorted linked lists into one sorted linked list."
   ]
  },
  {
   "cell_type": "code",
   "execution_count": 22,
   "id": "2cd24bd1-2b1d-4d8e-b960-30b9a9152a53",
   "metadata": {},
   "outputs": [],
   "source": [
    "class Node :\n",
    "\n",
    "  def __init__(self,data,next=None):\n",
    "    self.data = data\n",
    "    self.next = next\n",
    "\n",
    "  #Method to set the data value\n",
    "  def setData(self,data):\n",
    "    self.data = data\n",
    "\n",
    "  #method to get the data value\n",
    "  def getData(self):\n",
    "    return self.data\n",
    "\n",
    "  #Method of set the next\n",
    "  def setNext(self, next):\n",
    "    self.next = next\n",
    "\n",
    "  #Method to get the next\n",
    "  def getNext(self):\n",
    "    return self.next\n",
    "\n",
    "class LinkedList:\n",
    "    \n",
    "    def __init__(self):\n",
    "        self.head = None\n",
    "        self.lnode = None\n",
    "        \n",
    "    def append(self,data):\n",
    "        new=Node(data)\n",
    "        if self.lnode is None:\n",
    "            self.lnode=new\n",
    "            self.head=new\n",
    "        else:\n",
    "            self.lnode.setNext(new)\n",
    "            self.lnode=new\n",
    "def mergelist(headA,headB):\n",
    "    dummy=Node(0)\n",
    "    tail=dummy\n",
    "    while True:                                                                                                                                                                                                                                                                                                                                                                                                                                                       \n",
    "        if headA is None:\n",
    "            tail.next=headB\n",
    "            break\n",
    "        if headB is None:\n",
    "            tail.next=headA\n",
    "            break\n",
    "        if headA.data<=headB.data:\n",
    "            tail.next=headA\n",
    "            headA=headA.next\n",
    "        else:\n",
    "            tail.next=headB\n",
    "            headB=headB.next\n",
    "        tail=tail.next\n",
    "    return dummy.next\n",
    "        "
   ]
  },
  {
   "cell_type": "code",
   "execution_count": 23,
   "id": "e7388266-12e6-4237-b821-af4e85fccb40",
   "metadata": {},
   "outputs": [],
   "source": [
    "def traverse(head):\n",
    "  temp = head\n",
    "  while(temp):\n",
    "    print(temp.getData(),end=\"->\")\n",
    "    temp = temp.getNext() #jump to the next node"
   ]
  },
  {
   "cell_type": "code",
   "execution_count": 24,
   "id": "64b5aa88-d7eb-4baa-9aaf-8f0b4389293f",
   "metadata": {},
   "outputs": [
    {
     "name": "stdin",
     "output_type": "stream",
     "text": [
      "How many elements would you like to add?  3\n",
      "Enter data item:  1\n",
      "Enter data item:  3\n",
      "Enter data item:  5\n"
     ]
    },
    {
     "name": "stdout",
     "output_type": "stream",
     "text": [
      "The linked list: 1->3->5->"
     ]
    }
   ],
   "source": [
    "a_llist = LinkedList()\n",
    "n = int(input('How many elements would you like to add? '))\n",
    "for i in range(n):\n",
    "    data = int(input('Enter data item: '))\n",
    "    a_llist.append(data)\n",
    "print('The linked list: ', end = '')\n",
    "traverse(a_llist.head)\n"
   ]
  },
  {
   "cell_type": "code",
   "execution_count": 25,
   "id": "bafa46bf-f905-4bc5-a4c1-0b58c7799b02",
   "metadata": {},
   "outputs": [
    {
     "name": "stdin",
     "output_type": "stream",
     "text": [
      "How many elements would you like to add?  3\n",
      "Enter data item:  2\n",
      "Enter data item:  4\n",
      "Enter data item:  6\n"
     ]
    },
    {
     "name": "stdout",
     "output_type": "stream",
     "text": [
      "The linked list: 2->4->6->"
     ]
    }
   ],
   "source": [
    "b_llist = LinkedList()\n",
    "n = int(input('How many elements would you like to add? '))\n",
    "for i in range(n):\n",
    "    data = int(input('Enter data item: '))\n",
    "    b_llist.append(data)\n",
    "print('The linked list: ', end = '')\n",
    "traverse(b_llist.head)"
   ]
  },
  {
   "cell_type": "code",
   "execution_count": 26,
   "id": "4a639c87-cf29-49f5-a39d-def1abe4a9fb",
   "metadata": {},
   "outputs": [
    {
     "name": "stdout",
     "output_type": "stream",
     "text": [
      "Head of linked list a_llist: 1\n",
      "Head of linked list b_llist: 2\n"
     ]
    }
   ],
   "source": [
    "print('Head of linked list a_llist:', a_llist.head.getData())\n",
    "print('Head of linked list b_llist:', b_llist.head.getData())\n"
   ]
  },
  {
   "cell_type": "code",
   "execution_count": 27,
   "id": "47bfffae-ca2e-49c4-9942-76804bf69627",
   "metadata": {},
   "outputs": [
    {
     "name": "stdout",
     "output_type": "stream",
     "text": [
      "The merged linked list: 1->2->3->4->5->6->"
     ]
    }
   ],
   "source": [
    "c_llist=LinkedList()\n",
    "c_llist.head=mergelist(a_llist.head,b_llist.head)\n",
    "print('The merged linked list: ', end = '')\n",
    "traverse(c_llist.head)"
   ]
  },
  {
   "cell_type": "markdown",
   "id": "44b16adf-5757-4506-9d6a-061bd3c334c3",
   "metadata": {},
   "source": [
    "### Problem 3: Remove the nth node from the end of a linked list."
   ]
  },
  {
   "cell_type": "code",
   "execution_count": 4,
   "id": "eec4dfec-48d8-4964-bf60-8f0d66e1ce5c",
   "metadata": {},
   "outputs": [],
   "source": [
    "class Node :\n",
    "\n",
    "  def __init__(self,data,next=None):\n",
    "    self.data = data\n",
    "    self.next = next\n",
    "\n",
    "  #Method to set the data value\n",
    "  def setData(self,data):\n",
    "    self.data = data\n",
    "\n",
    "  #method to get the data value\n",
    "  def getData(self):\n",
    "    return self.data\n",
    "\n",
    "  #Method of set the next\n",
    "  def setNext(self, next):\n",
    "    self.next = next\n",
    "\n",
    "  #Method to get the next\n",
    "  def getNext(self):\n",
    "    return self.next\n",
    "\n",
    "class LinkedList:\n",
    "    \n",
    "    def __init__(self):\n",
    "        self.head = None\n",
    "        self.lnode = None\n",
    "        \n",
    "    def append(self,data):\n",
    "        new=Node(data)\n",
    "        if self.lnode is None:\n",
    "            self.lnode=new\n",
    "            self.head=new\n",
    "        else:\n",
    "            self.lnode.setNext(new)\n",
    "            self.lnode=new"
   ]
  },
  {
   "cell_type": "code",
   "execution_count": 5,
   "id": "77e5667e-2529-4aa4-85f8-5b546dc225ec",
   "metadata": {},
   "outputs": [],
   "source": [
    "def traverse(head):\n",
    "  temp = head\n",
    "  while(temp):\n",
    "    print(temp.getData(),end=\"->\")\n",
    "    temp = temp.getNext() #jump to the next node"
   ]
  },
  {
   "cell_type": "code",
   "execution_count": 13,
   "id": "045ec6a8-9e70-45ff-96e8-c8f053a5b48e",
   "metadata": {},
   "outputs": [],
   "source": [
    "\n",
    "def remove(k,head):\n",
    "    c=1\n",
    "    temp=head\n",
    "    while(temp.next!=None and c<k-1):\n",
    "        temp=temp.next\n",
    "        c=c+1\n",
    "    temp.next=temp.next.next"
   ]
  },
  {
   "cell_type": "code",
   "execution_count": 17,
   "id": "f229e910-05e4-41c3-9a9e-0713f4a2ac38",
   "metadata": {},
   "outputs": [
    {
     "name": "stdin",
     "output_type": "stream",
     "text": [
      "How many elements would you like to add?  5\n",
      "which nth node you wnna remove from end  2\n",
      "Enter data item:  1\n",
      "Enter data item:  2\n",
      "Enter data item:  3\n",
      "Enter data item:  4\n",
      "Enter data item:  5\n"
     ]
    },
    {
     "name": "stdout",
     "output_type": "stream",
     "text": [
      "The linked list: 1->2->3->4->5->The updated linked list after deletion: 1->2->3->5->"
     ]
    }
   ],
   "source": [
    "a_llist = LinkedList()\n",
    "n = int(input('How many elements would you like to add? '))\n",
    "k= int(input('which nth node you wnna remove from end '))\n",
    "k=n-k+1\n",
    "for i in range(n):\n",
    "    data = int(input('Enter data item: '))\n",
    "    a_llist.append(data)\n",
    "print('The linked list: ', end = '')\n",
    "traverse(a_llist.head)\n",
    "remove(k,a_llist.head)\n",
    "print('The updated linked list after deletion: ', end = '')\n",
    "traverse(a_llist.head)"
   ]
  },
  {
   "cell_type": "markdown",
   "id": "bf7d9cd3-275e-4a2a-9dd8-9ac876ab1322",
   "metadata": {},
   "source": [
    "### Problem 5: Remove duplicates from a sorted linked list."
   ]
  },
  {
   "cell_type": "code",
   "execution_count": 32,
   "id": "7eaa5ea9-35ee-48da-bbe3-50367bc78d92",
   "metadata": {},
   "outputs": [],
   "source": [
    "class Node :\n",
    "\n",
    "  def __init__(self,data,next=None):\n",
    "    self.data = data\n",
    "    self.next = next\n",
    "\n",
    "  #Method to set the data value\n",
    "  def setData(self,data):\n",
    "    self.data = data\n",
    "\n",
    "  #method to get the data value\n",
    "  def getData(self):\n",
    "    return self.data\n",
    "\n",
    "  #Method of set the next\n",
    "  def setNext(self, next):\n",
    "    self.next = next\n",
    "\n",
    "  #Method to get the next\n",
    "  def getNext(self):\n",
    "    return self.next\n",
    "\n",
    "class LinkedList:\n",
    "    \n",
    "    def __init__(self):\n",
    "        self.head = None\n",
    "        self.lnode = None\n",
    "        \n",
    "    def append(self,data):\n",
    "        new=Node(data)\n",
    "        if self.lnode is None:\n",
    "            self.lnode=new\n",
    "            self.head=new\n",
    "        else:\n",
    "            self.lnode.setNext(new)\n",
    "            self.lnode=new\n",
    "def traverse(head):\n",
    "  temp = head\n",
    "  while(temp):\n",
    "    print(temp.getData(),end=\"->\")\n",
    "    temp = temp.getNext() #jump to the next node            "
   ]
  },
  {
   "cell_type": "code",
   "execution_count": 33,
   "id": "4782f8f5-b4c5-41ba-bd7c-193a61df4570",
   "metadata": {},
   "outputs": [],
   "source": [
    "def dup(head):\n",
    "    temp=head\n",
    "    while(temp.next):\n",
    "        if temp.data==temp.next.data:\n",
    "            temp.next=temp.next.next\n",
    "            temp=temp.next\n",
    "        else:\n",
    "            temp=temp.next"
   ]
  },
  {
   "cell_type": "code",
   "execution_count": 34,
   "id": "a5a44f9f-1519-4241-bc3c-2e25a8a715ff",
   "metadata": {},
   "outputs": [
    {
     "name": "stdin",
     "output_type": "stream",
     "text": [
      "How many elements would you like to add?  5\n",
      "Enter data item:  1\n",
      "Enter data item:  2\n",
      "Enter data item:  3\n",
      "Enter data item:  3\n",
      "Enter data item:  4\n"
     ]
    },
    {
     "name": "stdout",
     "output_type": "stream",
     "text": [
      "The linked list: 1->2->3->3->4->"
     ]
    }
   ],
   "source": [
    "a_llist = LinkedList()\n",
    "n = int(input('How many elements would you like to add? '))\n",
    "for i in range(n):\n",
    "    data = int(input('Enter data item: '))\n",
    "    a_llist.append(data)\n",
    "print('The linked list: ', end = '')\n",
    "traverse(a_llist.head)"
   ]
  },
  {
   "cell_type": "code",
   "execution_count": 35,
   "id": "e2db5508-22d8-41bc-916b-d05d63bcc20d",
   "metadata": {},
   "outputs": [
    {
     "name": "stdout",
     "output_type": "stream",
     "text": [
      "The updated linked list after removing duplicates: 1->2->3->4->"
     ]
    }
   ],
   "source": [
    "dup(a_llist.head)\n",
    "print('The updated linked list after removing duplicates: ', end = '')\n",
    "traverse(a_llist.head)"
   ]
  },
  {
   "cell_type": "markdown",
   "id": "64dab5d4-9759-4a4a-bf23-be59eefc9024",
   "metadata": {},
   "source": [
    "### Problem 7: Swap nodes in pairs in a linked list."
   ]
  },
  {
   "cell_type": "code",
   "execution_count": 1,
   "id": "1009709a-213d-4444-93c0-851fce4e9c1a",
   "metadata": {},
   "outputs": [],
   "source": [
    "class Node :\n",
    "\n",
    "  def __init__(self,data,next=None):\n",
    "    self.data = data\n",
    "    self.next = next\n",
    "\n",
    "  #Method to set the data value\n",
    "  def setData(self,data):\n",
    "    self.data = data\n",
    "\n",
    "  #method to get the data value\n",
    "  def getData(self):\n",
    "    return self.data\n",
    "\n",
    "  #Method of set the next\n",
    "  def setNext(self, next):\n",
    "    self.next = next\n",
    "\n",
    "  #Method to get the next\n",
    "  def getNext(self):\n",
    "    return self.next\n",
    "\n",
    "class LinkedList:\n",
    "    \n",
    "    def __init__(self):\n",
    "        self.head = None\n",
    "        self.lnode = None\n",
    "        \n",
    "    def append(self,data):\n",
    "        new=Node(data)\n",
    "        if self.lnode is None:\n",
    "            self.lnode=new\n",
    "            self.head=new\n",
    "        else:\n",
    "            self.lnode.setNext(new)\n",
    "            self.lnode=new\n",
    "def traverse(head):\n",
    "  temp = head\n",
    "  while(temp):\n",
    "    print(temp.getData(),end=\"->\")\n",
    "    temp = temp.getNext() #jump to the next node     "
   ]
  },
  {
   "cell_type": "code",
   "execution_count": 2,
   "id": "9d1487ee-302f-4c1d-b618-8e448adcc1f4",
   "metadata": {},
   "outputs": [],
   "source": [
    "def swap(head):\n",
    "    temp=head\n",
    "    if temp is None:\n",
    "        return\n",
    "    while(temp and temp.next):\n",
    "        if(temp.data!=temp.next.data):\n",
    "            temp.data,temp.next.data=temp.next.data,temp.data\n",
    "        temp=temp.next    "
   ]
  },
  {
   "cell_type": "code",
   "execution_count": 3,
   "id": "47ed146f-bbb4-40a8-b7d2-f7485cbeb5f4",
   "metadata": {},
   "outputs": [
    {
     "name": "stdin",
     "output_type": "stream",
     "text": [
      "How many elements would you like to add?  6\n",
      "Enter data item:  1\n",
      "Enter data item:  2\n",
      "Enter data item:  3\n",
      "Enter data item:  4\n",
      "Enter data item:  5\n",
      "Enter data item:  6\n"
     ]
    },
    {
     "name": "stdout",
     "output_type": "stream",
     "text": [
      "The linked list: 1->2->3->4->5->6->"
     ]
    }
   ],
   "source": [
    "a_llist = LinkedList()\n",
    "n = int(input('How many elements would you like to add? '))\n",
    "for i in range(n):\n",
    "    data = int(input('Enter data item: '))\n",
    "    a_llist.append(data)\n",
    "print('The linked list: ', end = '')\n",
    "traverse(a_llist.head)"
   ]
  },
  {
   "cell_type": "code",
   "execution_count": 4,
   "id": "722f0732-0aa2-4c27-9746-f3d87c32e783",
   "metadata": {},
   "outputs": [
    {
     "name": "stdout",
     "output_type": "stream",
     "text": [
      "2->3->4->5->6->1->"
     ]
    }
   ],
   "source": [
    "swap(a_llist.head)\n",
    "traverse(a_llist.head)"
   ]
  },
  {
   "cell_type": "code",
   "execution_count": null,
   "id": "117e36e3",
   "metadata": {},
   "outputs": [],
   "source": []
  }
 ],
 "metadata": {
  "kernelspec": {
   "display_name": "Python 3 (ipykernel)",
   "language": "python",
   "name": "python3"
  },
  "language_info": {
   "codemirror_mode": {
    "name": "ipython",
    "version": 3
   },
   "file_extension": ".py",
   "mimetype": "text/x-python",
   "name": "python",
   "nbconvert_exporter": "python",
   "pygments_lexer": "ipython3",
   "version": "3.11.5"
  }
 },
 "nbformat": 4,
 "nbformat_minor": 5
}
