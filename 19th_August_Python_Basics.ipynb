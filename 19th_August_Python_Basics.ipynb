{
 "cells": [
  {
   "cell_type": "code",
   "execution_count": 1,
   "id": "b1cc4aa2-e1de-49ec-a892-a26ba7bfe1d6",
   "metadata": {},
   "outputs": [],
   "source": [
    "# 1-Declare two variables, `x` and `y`, and assign them integer values. Swap the values of these variables without using any temporary variable."
   ]
  },
  {
   "cell_type": "code",
   "execution_count": 2,
   "id": "d5ba9b26-0081-4f0b-b447-fb1b8f442625",
   "metadata": {},
   "outputs": [
    {
     "name": "stdout",
     "output_type": "stream",
     "text": [
      "2\n",
      "1\n"
     ]
    }
   ],
   "source": [
    "x=1\n",
    "y=2\n",
    "x=x+y\n",
    "y=x-y\n",
    "x=x-y\n",
    "print(x)\n",
    "print(y)"
   ]
  },
  {
   "cell_type": "code",
   "execution_count": 3,
   "id": "c545d1cb-8ad6-4172-ac00-3c1488793c6e",
   "metadata": {},
   "outputs": [],
   "source": [
    "# 2-Create a program that calculates the area of a rectangle. Take the length and width as inputs from the user and store them in variables. Calculate and display the area."
   ]
  },
  {
   "cell_type": "code",
   "execution_count": 4,
   "id": "550c2a1c-67f1-4aba-869d-c26ee44bbfa2",
   "metadata": {},
   "outputs": [
    {
     "name": "stdout",
     "output_type": "stream",
     "text": [
      "50\n"
     ]
    }
   ],
   "source": [
    "width=5  \n",
    "height=10  \n",
    "area=width*height  \n",
    "print(area)  "
   ]
  },
  {
   "cell_type": "code",
   "execution_count": 5,
   "id": "6d5d9539-4004-40e1-8b35-692b8ba609f8",
   "metadata": {},
   "outputs": [],
   "source": [
    "# 3-Write a Python program that converts temperatures from Celsius to Fahrenheit. Take the temperature in Celsius as input, store it in a variable, convert it to Fahrenheit, and display the result."
   ]
  },
  {
   "cell_type": "code",
   "execution_count": 7,
   "id": "6cec2018-d305-4520-ae4d-d68e2bde02b7",
   "metadata": {},
   "outputs": [
    {
     "name": "stdin",
     "output_type": "stream",
     "text": [
      "Enter the Temperature in Celsius :\n",
      " 40\n"
     ]
    },
    {
     "name": "stdout",
     "output_type": "stream",
     "text": [
      "Temperature in Fahrenheit : 104.0\n"
     ]
    }
   ],
   "source": [
    "celsius = int(input(\"Enter the Temperature in Celsius :\\n\"))\n",
    "fahrenheit = (1.8 * celsius) + 32\n",
    "print(\"Temperature in Fahrenheit :\", fahrenheit)"
   ]
  },
  {
   "cell_type": "code",
   "execution_count": 8,
   "id": "8d2dd755-5d6e-42da-8581-eb190b59c7b9",
   "metadata": {},
   "outputs": [],
   "source": [
    "# 4. Write a Python program that takes a string as input and prints the length of the string."
   ]
  },
  {
   "cell_type": "code",
   "execution_count": 2,
   "id": "77736b43-938d-49aa-a67b-95861e68c5f3",
   "metadata": {},
   "outputs": [
    {
     "name": "stdin",
     "output_type": "stream",
     "text": [
      "enter string ishan tyagi\n"
     ]
    },
    {
     "name": "stdout",
     "output_type": "stream",
     "text": [
      "11\n"
     ]
    }
   ],
   "source": [
    "A=str(input(\"enter string\"))\n",
    "print(len(A))"
   ]
  },
  {
   "cell_type": "code",
   "execution_count": 1,
   "id": "e4bf0540-4c67-4b33-a5d0-6f0fdd005c57",
   "metadata": {},
   "outputs": [],
   "source": [
    "#5. Create a program that takes a sentence from the user and counts the number of vowels (a, e, i, o, u) in the string."
   ]
  },
  {
   "cell_type": "code",
   "execution_count": 7,
   "id": "8130381c-647f-402d-aee2-9c8ba1d6bd30",
   "metadata": {},
   "outputs": [
    {
     "name": "stdin",
     "output_type": "stream",
     "text": [
      "enter string ishan tyagi\n"
     ]
    },
    {
     "name": "stdout",
     "output_type": "stream",
     "text": [
      "No. of vowels : 4\n"
     ]
    }
   ],
   "source": [
    "def vowels(A):\n",
    "    count = 0\n",
    "    vowel = \"aeiouAEIOU\"\n",
    "    for x in A:\n",
    "        if x in vowel:\n",
    "            count = count + 1\n",
    "     \n",
    "    print(\"No. of vowels :\", count)\n",
    "     \n",
    "A = str(input(\"enter string\"))\n",
    "\n",
    "vowels(A)"
   ]
  },
  {
   "cell_type": "code",
   "execution_count": 15,
   "id": "f87c1bf3-b7ef-4620-9639-13769931a6f9",
   "metadata": {},
   "outputs": [],
   "source": [
    "#6. Given a string, reverse the order of characters using string slicing and print the reversed string."
   ]
  },
  {
   "cell_type": "code",
   "execution_count": 16,
   "id": "5a172af2-c429-4413-b80d-fe4f61157ae7",
   "metadata": {},
   "outputs": [
    {
     "name": "stdout",
     "output_type": "stream",
     "text": [
      "ECNEICS\n"
     ]
    }
   ],
   "source": [
    "A=\"SCIENCE\"\n",
    "print(A[::-1])"
   ]
  },
  {
   "cell_type": "code",
   "execution_count": 1,
   "id": "323c0eb1-94c8-4a49-ad37-110be226a9a8",
   "metadata": {},
   "outputs": [],
   "source": [
    "#7. Write a program that takes a string as input and checks if it is a palindrome (reads the same forwards and backwards)."
   ]
  },
  {
   "cell_type": "code",
   "execution_count": 22,
   "id": "775cc325-f5de-4e2e-a533-c27ff12187b4",
   "metadata": {},
   "outputs": [
    {
     "name": "stdin",
     "output_type": "stream",
     "text": [
      "enter string madam\n"
     ]
    },
    {
     "name": "stdout",
     "output_type": "stream",
     "text": [
      "Its palindrome\n"
     ]
    }
   ],
   "source": [
    "def pal(A):\n",
    "    for i in range(0,int(len(A)/2)):\n",
    "                   if A[i]!=A[len(A)-i-1]:\n",
    "                     return 0\n",
    "    return 1\n",
    "A=str(input(\"enter string\"))\n",
    "x=pal(A)\n",
    "if(x==1):\n",
    "                   print(\"Its palindrome\")\n",
    "else:\n",
    "                   print(\"Its not palindrome\")\n",
    "                   "
   ]
  },
  {
   "cell_type": "code",
   "execution_count": 1,
   "id": "945dd95c-6741-4bd5-b589-9e8814528e4e",
   "metadata": {},
   "outputs": [],
   "source": [
    "# 8.Create a program that takes a string as input and removes all the spaces from it. Print the modified string without spaces."
   ]
  },
  {
   "cell_type": "code",
   "execution_count": 14,
   "id": "b4113884-76ab-4eed-8488-dfa61229bedb",
   "metadata": {},
   "outputs": [
    {
     "name": "stdin",
     "output_type": "stream",
     "text": [
      "enter string ISHAN TYAGI\n"
     ]
    },
    {
     "name": "stdout",
     "output_type": "stream",
     "text": [
      "ISHANTYAGI\n"
     ]
    }
   ],
   "source": [
    "A = str(input(\"enter string\"))\n",
    "A=A.replace(\" \", \"\")\n",
    "print(A)"
   ]
  },
  {
   "cell_type": "code",
   "execution_count": null,
   "id": "90b04839-9c03-48e1-b256-6c4482a6c25d",
   "metadata": {},
   "outputs": [],
   "source": []
  }
 ],
 "metadata": {
  "kernelspec": {
   "display_name": "Python 3 (ipykernel)",
   "language": "python",
   "name": "python3"
  },
  "language_info": {
   "codemirror_mode": {
    "name": "ipython",
    "version": 3
   },
   "file_extension": ".py",
   "mimetype": "text/x-python",
   "name": "python",
   "nbconvert_exporter": "python",
   "pygments_lexer": "ipython3",
   "version": "3.10.8"
  },
  "toc-autonumbering": true
 },
 "nbformat": 4,
 "nbformat_minor": 5
}
