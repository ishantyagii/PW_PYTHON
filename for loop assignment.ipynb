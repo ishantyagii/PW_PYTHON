{
 "cells": [
  {
   "cell_type": "markdown",
   "id": "35af5856-2579-4377-811d-ea5a75169377",
   "metadata": {},
   "source": [
    "INTERMEDIATE QUESTIONS"
   ]
  },
  {
   "cell_type": "markdown",
   "id": "747b0562-8486-4b3a-8d95-4518104d3311",
   "metadata": {},
   "source": [
    "11. Write a program to check if a given list contains any duplicates using a `for` loop."
   ]
  },
  {
   "cell_type": "code",
   "execution_count": 3,
   "id": "63a19d47-a292-44df-92bf-34fff8179e4b",
   "metadata": {},
   "outputs": [
    {
     "name": "stdin",
     "output_type": "stream",
     "text": [
      "Enter a string:  10 10\n"
     ]
    },
    {
     "name": "stdout",
     "output_type": "stream",
     "text": [
      "There are duplicates\n",
      "There are duplicates\n"
     ]
    }
   ],
   "source": [
    "A = input(\"Enter a string: \")\n",
    "r = A.split()\n",
    "c=0\n",
    "for x in r:\n",
    "    for y in r:\n",
    "        if x==y:\n",
    "            c=c+1\n",
    "    if c>1:\n",
    "        print(\"There are duplicates\")\n",
    "    else:\n",
    "        print(\"There are no duplicates\")\n",
    "    c=0"
   ]
  },
  {
   "cell_type": "markdown",
   "id": "6206dc26-4e8c-4390-83de-376ad58b66f0",
   "metadata": {},
   "source": [
    "12. Create a program that prints the prime numbers in a given range using a `for` loop."
   ]
  },
  {
   "cell_type": "code",
   "execution_count": 3,
   "id": "79abdcd6-eeb7-46c5-b131-6d21b8f8621f",
   "metadata": {},
   "outputs": [
    {
     "name": "stdin",
     "output_type": "stream",
     "text": [
      "Enter a number  10\n"
     ]
    },
    {
     "name": "stdout",
     "output_type": "stream",
     "text": [
      "[3, 5, 7]\n"
     ]
    }
   ],
   "source": [
    "n = int(input(\"Enter a number \"))\n",
    "h = []\n",
    "\n",
    "\n",
    "for i in range(2, n):\n",
    "    is_prime = True\n",
    "\n",
    "    if i % 2 == 0:\n",
    "        continue\n",
    "    \n",
    "    for x in range(2, int(i ** 0.5) + 1):\n",
    "        if i % x == 0:\n",
    "            is_prime = False\n",
    "            break\n",
    "    \n",
    "    if is_prime:\n",
    "        h.append(i)\n",
    "\n",
    "print(h)\n"
   ]
  },
  {
   "cell_type": "markdown",
   "id": "da554dbc-19fe-45ae-ac86-5e18e3e9a4ed",
   "metadata": {},
   "source": [
    "13. Develop a program that counts the number of vowels in a string using a `for` loop."
   ]
  },
  {
   "cell_type": "code",
   "execution_count": 1,
   "id": "49508ca7-05d8-46a6-a81a-84f97790eb38",
   "metadata": {},
   "outputs": [
    {
     "name": "stdin",
     "output_type": "stream",
     "text": [
      "Enter string ishan tyagi\n"
     ]
    },
    {
     "name": "stdout",
     "output_type": "stream",
     "text": [
      "4\n"
     ]
    }
   ],
   "source": [
    "A=str(input(\"Enter string\"))\n",
    "r=A.split()\n",
    "c=0\n",
    "for i in r:\n",
    "    for x in i:\n",
    "        if x==\"a\":\n",
    "            c=c+1\n",
    "        elif x==\"e\":\n",
    "            c=c+1\n",
    "        elif x==\"i\":\n",
    "            c=c+1\n",
    "        elif x==\"o\":\n",
    "            c=c+1\n",
    "        elif x==\"u\":\n",
    "            c=c+1    \n",
    "print(c)"
   ]
  },
  {
   "cell_type": "markdown",
   "id": "c6da33a4-f0fe-49ac-b0fe-89baf77702c5",
   "metadata": {},
   "source": [
    "14. Write a program to find the maximum element in a 2D list using a nested `for` loop."
   ]
  },
  {
   "cell_type": "code",
   "execution_count": 7,
   "id": "704ef7f1-5fed-48a9-be39-2ca20aae7d86",
   "metadata": {},
   "outputs": [
    {
     "name": "stdin",
     "output_type": "stream",
     "text": [
      "Enter the number of rows:  2\n",
      "Enter the number of columns:  2\n",
      "Enter the element at row 0, column 0:  1\n",
      "Enter the element at row 0, column 1:  4\n",
      "Enter the element at row 1, column 0:  2\n",
      "Enter the element at row 1, column 1:  3\n"
     ]
    },
    {
     "name": "stdout",
     "output_type": "stream",
     "text": [
      "[1, 4]\n",
      "[2, 3]\n",
      "The max element is  4\n"
     ]
    }
   ],
   "source": [
    "# Taking input for the dimensions of the 2D list\n",
    "rows = int(input(\"Enter the number of rows: \"))\n",
    "cols = int(input(\"Enter the number of columns: \"))\n",
    "\n",
    "# Initialize an empty 2D list\n",
    "matrix = []\n",
    "maxx=float('-inf') \n",
    "# Taking input for each element in the 2D list\n",
    "for i in range(rows):\n",
    "    row = []  # Initialize an empty row\n",
    "    for j in range(cols):\n",
    "        element = int(input(f\"Enter the element at row {i}, column {j}: \"))\n",
    "        if element>maxx:\n",
    "            maxx=element\n",
    "        row.append(element)  # Add the element to the row\n",
    "    matrix.append(row)  # Add the row to the 2D list\n",
    "\n",
    "# Printing the 2D list\n",
    "for roww in matrix:\n",
    "    print(roww)\n",
    "print(\"The max element is \",maxx)"
   ]
  },
  {
   "cell_type": "code",
   "execution_count": null,
   "id": "113b8a5c-9f72-48cf-8f17-fa0daf7eeceb",
   "metadata": {},
   "outputs": [],
   "source": []
  }
 ],
 "metadata": {
  "kernelspec": {
   "display_name": "Python 3 (ipykernel)",
   "language": "python",
   "name": "python3"
  },
  "language_info": {
   "codemirror_mode": {
    "name": "ipython",
    "version": 3
   },
   "file_extension": ".py",
   "mimetype": "text/x-python",
   "name": "python",
   "nbconvert_exporter": "python",
   "pygments_lexer": "ipython3",
   "version": "3.10.8"
  }
 },
 "nbformat": 4,
 "nbformat_minor": 5
}
