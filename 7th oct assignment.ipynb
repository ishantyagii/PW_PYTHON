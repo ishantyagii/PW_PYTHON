{
 "cells": [
  {
   "cell_type": "markdown",
   "id": "c02b813d-285b-44ac-99b4-14236468bd75",
   "metadata": {},
   "source": [
    "Problem 1: Bank Account Create a class representing a bank account with attributes like account number, account holder name, and balance. Implement methods to deposit and withdraw money from the account."
   ]
  },
  {
   "cell_type": "code",
   "execution_count": 2,
   "id": "9ec5c9d0-f489-45c6-81ae-b500f4047b21",
   "metadata": {},
   "outputs": [],
   "source": [
    "class BankAccount:\n",
    "    def __init__(self, account_number, account_holder_name, balance=0.0):\n",
    "        self.account_number = account_number\n",
    "        self.account_holder_name = account_holder_name\n",
    "        self.balance = balance\n",
    "\n",
    "    def deposit(self, amount):\n",
    "        if amount > 0:\n",
    "            self.balance += amount\n",
    "            return f\"Deposited ${amount}. New balance is ${self.balance}\"\n",
    "        else:\n",
    "            return \"Invalid deposit amount. Amount must be greater than 0.\"\n",
    "\n",
    "    def withdraw(self, amount):\n",
    "        if amount > 0:\n",
    "            if amount <= self.balance:\n",
    "                self.balance -= amount\n",
    "                return f\"Withdrew ${amount}. New balance is ${self.balance}\"\n",
    "            else:\n",
    "                return \"Insufficient balance.\"\n",
    "        else:\n",
    "            return \"Invalid withdrawal amount. Amount must be greater than 0.\"\n",
    "\n",
    "    def get_balance(self):\n",
    "        return f\"Account balance for {self.account_holder_name}: ${self.balance}\"\n",
    "\n",
    "    def __str__(self):\n",
    "        return f\"Account Holder: {self.account_holder_name}\\nAccount Number: {self.account_number}\\nBalance: ${self.balance}\""
   ]
  },
  {
   "cell_type": "code",
   "execution_count": 3,
   "id": "991dfd79-2b15-49fe-a471-db332df1afa4",
   "metadata": {},
   "outputs": [],
   "source": [
    "ish=BankAccount(\"122\",\"Ishan Tyagi\",1000)"
   ]
  },
  {
   "cell_type": "code",
   "execution_count": 4,
   "id": "7aa7b628-c383-49ef-88f5-26d5cb17812a",
   "metadata": {},
   "outputs": [
    {
     "data": {
      "text/plain": [
       "'Deposited $500. New balance is $1500'"
      ]
     },
     "execution_count": 4,
     "metadata": {},
     "output_type": "execute_result"
    }
   ],
   "source": [
    "ish.deposit(500)"
   ]
  },
  {
   "cell_type": "code",
   "execution_count": 5,
   "id": "60c124a9-1a87-44ee-8fc7-f3a98fedaaa1",
   "metadata": {},
   "outputs": [
    {
     "data": {
      "text/plain": [
       "'Withdrew $500. New balance is $1000'"
      ]
     },
     "execution_count": 5,
     "metadata": {},
     "output_type": "execute_result"
    }
   ],
   "source": [
    "ish.withdraw(500)"
   ]
  },
  {
   "cell_type": "code",
   "execution_count": 6,
   "id": "eef99035-6db0-4cdf-acd6-b025a34f061d",
   "metadata": {},
   "outputs": [
    {
     "data": {
      "text/plain": [
       "'Account balance for Ishan Tyagi: $1000'"
      ]
     },
     "execution_count": 6,
     "metadata": {},
     "output_type": "execute_result"
    }
   ],
   "source": [
    "ish.get_balance()"
   ]
  },
  {
   "cell_type": "code",
   "execution_count": 7,
   "id": "554a5b68-649e-4dd2-b317-026492d73d7e",
   "metadata": {},
   "outputs": [
    {
     "data": {
      "text/plain": [
       "'Account Holder: Ishan Tyagi\\nAccount Number: 122\\nBalance: $1000'"
      ]
     },
     "execution_count": 7,
     "metadata": {},
     "output_type": "execute_result"
    }
   ],
   "source": [
    "ish.__str__()"
   ]
  },
  {
   "cell_type": "markdown",
   "id": "d987b74c-d0e5-4971-b9e0-6a587192f2ea",
   "metadata": {},
   "source": [
    "Problem 2: Employee Management Create a class representing an employee with attributes like employee ID, name, and salary. Implement methods to calculate the yearly bonus and display employee details."
   ]
  },
  {
   "cell_type": "code",
   "execution_count": 8,
   "id": "78840c10-e425-4fa6-b241-e4b34ec68a3c",
   "metadata": {},
   "outputs": [],
   "source": [
    "class Employee:\n",
    "    def __init__(self, employee_id, name, salary):\n",
    "        self.employee_id = employee_id\n",
    "        self.name = name\n",
    "        self.salary = salary\n",
    "\n",
    "    def calculate_yearly_bonus(self, bonus_percentage):\n",
    "        if bonus_percentage >= 0:\n",
    "            bonus = (bonus_percentage / 100) * self.salary\n",
    "            return bonus\n",
    "        else:\n",
    "            return \"Invalid bonus percentage. Percentage must be non-negative.\"\n",
    "\n",
    "    def display_employee_details(self):\n",
    "        return f\"Employee ID: {self.employee_id}\\nName: {self.name}\\nSalary: ${self.salary}\"\n",
    "\n",
    "    def __str__(self):\n",
    "        return self.display_employee_details()"
   ]
  },
  {
   "cell_type": "code",
   "execution_count": 12,
   "id": "1846e9b2-d27a-4f86-8375-4dc66ce0a17c",
   "metadata": {},
   "outputs": [],
   "source": [
    "ish=Employee(\"12\",\"Ishan\",1000)"
   ]
  },
  {
   "cell_type": "code",
   "execution_count": 13,
   "id": "048f4187-6ba6-48df-b7a0-82197eaa8057",
   "metadata": {},
   "outputs": [
    {
     "data": {
      "text/plain": [
       "100.0"
      ]
     },
     "execution_count": 13,
     "metadata": {},
     "output_type": "execute_result"
    }
   ],
   "source": [
    "ish.calculate_yearly_bonus(10)"
   ]
  },
  {
   "cell_type": "code",
   "execution_count": 14,
   "id": "a70546e3-eca1-421e-81cb-53425933c1f6",
   "metadata": {},
   "outputs": [
    {
     "data": {
      "text/plain": [
       "'Employee ID: 12\\nName: Ishan\\nSalary: $1000'"
      ]
     },
     "execution_count": 14,
     "metadata": {},
     "output_type": "execute_result"
    }
   ],
   "source": [
    "ish.__str__()"
   ]
  },
  {
   "cell_type": "code",
   "execution_count": 47,
   "id": "937dbc9b-fccd-459c-b310-4f0e176c4c48",
   "metadata": {},
   "outputs": [],
   "source": [
    "class Product:\n",
    "    def __init__(self, product_id, name, price, quantity):\n",
    "        self.product_id = product_id\n",
    "        self.name = name\n",
    "        self.price = price\n",
    "        self.quantity = quantity\n",
    "\n",
    "    def update_quantity(self, new_quantity):\n",
    "        if new_quantity >= 0:\n",
    "            self.quantity = new_quantity\n",
    "        else:\n",
    "            print(\"Invalid quantity. Quantity must be non-negative.\")\n",
    "\n",
    "    def __str__(self):\n",
    "        return f\"Product ID: {self.product_id}\\nName: {self.name}\\nPrice: ${self.price:.2f}\\nQuantity: {self.quantity}\"\n",
    "\n",
    "\n",
    "class Inventory:\n",
    "    def __init__(self):\n",
    "        self.products = {}\n",
    "\n",
    "    def add_product(self, product):\n",
    "        if product.product_id not in self.products:\n",
    "            self.products[product.product_id] = product\n",
    "            print(self.products)\n",
    "        else:\n",
    "            print(\"Product with the same ID already exists. Use update_quantity to change the quantity.\")\n",
    "\n",
    "    def update_quantity1(self, product_id, new_quantity):\n",
    "        if product_id in self.products:\n",
    "            self.products[product_id].update_quantity(new_quantity)\n",
    "        else:\n",
    "            print(\"Product not found in inventory.\")\n",
    "\n",
    "    def display_available_products(self):\n",
    "        for product in self.products.values():\n",
    "            if product.quantity > 0:\n",
    "                print(product)\n",
    "                print()\n"
   ]
  },
  {
   "cell_type": "code",
   "execution_count": 48,
   "id": "69a00168-ff69-4c58-9d73-0099837570ac",
   "metadata": {},
   "outputs": [],
   "source": [
    "ish=Product(1,\"Ishan\",20,5)"
   ]
  },
  {
   "cell_type": "code",
   "execution_count": 49,
   "id": "d86e1bfb-e80f-4032-9b62-367ea8d8526e",
   "metadata": {},
   "outputs": [],
   "source": [
    "ish.update_quantity(5)"
   ]
  },
  {
   "cell_type": "code",
   "execution_count": 50,
   "id": "d7cd3ba9-b115-4f55-867c-ecf022c19c3f",
   "metadata": {},
   "outputs": [
    {
     "data": {
      "text/plain": [
       "'Product ID: 1\\nName: Ishan\\nPrice: $20.00\\nQuantity: 5'"
      ]
     },
     "execution_count": 50,
     "metadata": {},
     "output_type": "execute_result"
    }
   ],
   "source": [
    "ish.__str__()"
   ]
  },
  {
   "cell_type": "code",
   "execution_count": 51,
   "id": "da0696f9-b202-4a27-abeb-240751b753a8",
   "metadata": {},
   "outputs": [],
   "source": [
    "ish1=Product(1,\"Ishan\",20,5)"
   ]
  },
  {
   "cell_type": "code",
   "execution_count": 52,
   "id": "5d6a4e51-c48d-4b8e-aadd-12e828752c04",
   "metadata": {},
   "outputs": [],
   "source": [
    "ish1.update_quantity(5)"
   ]
  },
  {
   "cell_type": "code",
   "execution_count": 53,
   "id": "0dbdace8-9eca-40b0-b25f-9ba99b9e10d6",
   "metadata": {},
   "outputs": [
    {
     "data": {
      "text/plain": [
       "'Product ID: 1\\nName: Ishan\\nPrice: $20.00\\nQuantity: 5'"
      ]
     },
     "execution_count": 53,
     "metadata": {},
     "output_type": "execute_result"
    }
   ],
   "source": [
    "ish1.__str__()"
   ]
  },
  {
   "cell_type": "code",
   "execution_count": 54,
   "id": "bada6dba-008c-4a06-ac41-51c295d199d7",
   "metadata": {},
   "outputs": [
    {
     "name": "stdout",
     "output_type": "stream",
     "text": [
      "{1: <__main__.Product object at 0x7fd5c8451960>}\n"
     ]
    }
   ],
   "source": [
    "inventory = Inventory()\n",
    "inventory.add_product(ish)"
   ]
  },
  {
   "cell_type": "code",
   "execution_count": 34,
   "id": "7c03ccaa-ba44-43ec-894c-c76b511a2c61",
   "metadata": {},
   "outputs": [
    {
     "name": "stdout",
     "output_type": "stream",
     "text": [
      "Product with the same ID already exists. Use update_quantity to change the quantity.\n"
     ]
    }
   ],
   "source": [
    "inventory.add_product(ish1)"
   ]
  },
  {
   "cell_type": "code",
   "execution_count": 55,
   "id": "499be4e3-338f-4fa2-825b-aa53590eacd3",
   "metadata": {},
   "outputs": [],
   "source": [
    "inventory.update_quantity1(1,6)"
   ]
  },
  {
   "cell_type": "code",
   "execution_count": 56,
   "id": "799e2070-b016-4eb8-a985-bbed81919a07",
   "metadata": {},
   "outputs": [
    {
     "data": {
      "text/plain": [
       "'Product ID: 1\\nName: Ishan\\nPrice: $20.00\\nQuantity: 6'"
      ]
     },
     "execution_count": 56,
     "metadata": {},
     "output_type": "execute_result"
    }
   ],
   "source": [
    "ish.__str__()"
   ]
  },
  {
   "cell_type": "markdown",
   "id": "4100acc7-0d73-4625-82ea-9a3daab7eb0c",
   "metadata": {},
   "source": [
    "Problem 6: Shape Calculation Create a class representing a shape with attributes like length, width, and height. Implement methods to calculate the area and perimeter of the shape."
   ]
  },
  {
   "cell_type": "code",
   "execution_count": 11,
   "id": "765ce0ab-e455-4a80-8878-b78344f99c97",
   "metadata": {},
   "outputs": [],
   "source": [
    "class shape:\n",
    "    def __init__(self,l,w,h):\n",
    "        self.l=l\n",
    "        self.w=w\n",
    "        self.h=h\n",
    "class rectangle:\n",
    "    def areaofrec(self,sh):\n",
    "        area=sh.l*sh.w\n",
    "        print(area)\n",
    "    def perim(self,sh):\n",
    "        perimeter=2*(sh.l+sh.w)\n",
    "        print(perimeter)\n",
    "class triangle:\n",
    "    def areaoftri(self,sh):\n",
    "        area=0.5*sh.h*sh.w\n",
    "        print(area)\n",
    "    def perim(self):\n",
    "        perimeter=sh.l+sh.w+sh.h\n",
    "        print(perimeter)\n"
   ]
  },
  {
   "cell_type": "code",
   "execution_count": 12,
   "id": "48914254-e735-4e47-991d-93bc5151ffc3",
   "metadata": {},
   "outputs": [],
   "source": [
    "ish=shape(2,3,4)"
   ]
  },
  {
   "cell_type": "code",
   "execution_count": 13,
   "id": "5fb7eec3-fd9f-4ee5-8bd0-cfc5ddb25f20",
   "metadata": {},
   "outputs": [],
   "source": [
    "ar=rectangle()"
   ]
  },
  {
   "cell_type": "code",
   "execution_count": 14,
   "id": "ac537c82-2124-4248-bd64-464416516943",
   "metadata": {},
   "outputs": [
    {
     "name": "stdout",
     "output_type": "stream",
     "text": [
      "6\n"
     ]
    }
   ],
   "source": [
    "ar.areaofrec(ish)"
   ]
  },
  {
   "cell_type": "code",
   "execution_count": 15,
   "id": "d656b312-0ed4-45a2-894b-b4e78f4d76ef",
   "metadata": {},
   "outputs": [
    {
     "name": "stdout",
     "output_type": "stream",
     "text": [
      "10\n"
     ]
    }
   ],
   "source": [
    "ar.perim(ish)"
   ]
  },
  {
   "cell_type": "code",
   "execution_count": 16,
   "id": "890661ab-557e-42c5-952a-5fd0041dbf0d",
   "metadata": {},
   "outputs": [],
   "source": [
    "ar=triangle()"
   ]
  },
  {
   "cell_type": "code",
   "execution_count": 17,
   "id": "ddb8f25b-383e-4dd2-a462-dde10dadc7ff",
   "metadata": {},
   "outputs": [
    {
     "name": "stdout",
     "output_type": "stream",
     "text": [
      "6.0\n"
     ]
    }
   ],
   "source": [
    "ar.areaoftri(ish)"
   ]
  },
  {
   "cell_type": "markdown",
   "id": "851eb6f1-53f1-4ff3-8c60-92f1ac0858f5",
   "metadata": {},
   "source": [
    "Problem 7: Student Management Create a class representing a student with attributes like student ID, name, and grades. Implement methods to calculate the average grade and display student details."
   ]
  },
  {
   "cell_type": "code",
   "execution_count": 34,
   "id": "f2f70a6e-415b-4b8e-8ca9-43ad87fdba49",
   "metadata": {},
   "outputs": [],
   "source": [
    "class Student:\n",
    "    def __init__(self,si,name,grade):\n",
    "        self.si=si\n",
    "        self.name=name\n",
    "        self.grade=grade\n",
    "class calavgdisp(Student):\n",
    "    def average(self):\n",
    "        summ=sum(self.grade)\n",
    "        avg=summ/len(self.grade)\n",
    "        print(avg)\n",
    "    def dispstuddet(self):\n",
    "         return f\"Student ID: {self.si}\\nName: {self.name}\\nGrades: {', '.join(map(str, self.grade))}\"\n",
    "        "
   ]
  },
  {
   "cell_type": "code",
   "execution_count": 35,
   "id": "a2bccb5c-356d-4f22-a5ec-04828323f19b",
   "metadata": {},
   "outputs": [],
   "source": [
    "grades=[90,95,99]\n",
    "ish=Student(1,\"Ishan\",grades)"
   ]
  },
  {
   "cell_type": "code",
   "execution_count": 36,
   "id": "34376611-d7a4-47ee-a26b-ca12f76cc312",
   "metadata": {},
   "outputs": [],
   "source": [
    "ish=calavgdisp(1,\"Ishan\",grades)"
   ]
  },
  {
   "cell_type": "code",
   "execution_count": 37,
   "id": "ae484461-a15d-4ae6-ad81-6a0f01da10cd",
   "metadata": {},
   "outputs": [
    {
     "name": "stdout",
     "output_type": "stream",
     "text": [
      "94.66666666666667\n"
     ]
    }
   ],
   "source": [
    "ish.average()"
   ]
  },
  {
   "cell_type": "code",
   "execution_count": 38,
   "id": "8ec10412-fd9c-431c-bffb-947191d53a8b",
   "metadata": {},
   "outputs": [
    {
     "data": {
      "text/plain": [
       "'Student ID: 1\\nName: Ishan\\nGrades: 90, 95, 99'"
      ]
     },
     "execution_count": 38,
     "metadata": {},
     "output_type": "execute_result"
    }
   ],
   "source": [
    "ish.dispstuddet()"
   ]
  },
  {
   "cell_type": "markdown",
   "id": "14c163c6-236a-4c25-a694-b2406d3301b5",
   "metadata": {},
   "source": [
    "Social Media Profile Create a class representing a social media profile with attributes like username and posts. Implement methods to add posts, display posts, and search for posts by keyword."
   ]
  },
  {
   "cell_type": "code",
   "execution_count": 28,
   "id": "b4ed5842-9b4c-4bf8-a4a6-02b2fe5e208c",
   "metadata": {},
   "outputs": [],
   "source": [
    "class media:\n",
    "    def __init__(self,username):\n",
    "        self.username=username\n",
    "        self.posts=[]\n",
    "    def add_posts(self,text):\n",
    "        if text in self.posts:\n",
    "            print(\"The post has already been uploaded\")\n",
    "        else:\n",
    "            self.posts.append(text)\n",
    "            print(self.posts)\n",
    "    def display_posts(self):\n",
    "        if self.posts:\n",
    "            print(f\"Posts by {self.username}:\")\n",
    "            for i in range(len(self.posts)):\n",
    "                print(f\"Post at index {i+1}: {self.posts[i]}\")\n",
    "        else:\n",
    "            print(f\"No posts available for {self.username}\")\n",
    "    def search_posts(self,keyword):\n",
    "        index=0\n",
    "        for i in self.posts:\n",
    "            index=index+1\n",
    "            if keyword in i:\n",
    "                print(f\"The word '{keyword}' is present in the sentence: '{i}' at index '{index}'\")\n",
    "            else:\n",
    "                continue"
   ]
  },
  {
   "cell_type": "code",
   "execution_count": 29,
   "id": "e6a12ec4-cb30-4599-a692-c5adbefb028d",
   "metadata": {},
   "outputs": [],
   "source": [
    "prof=media(\"Ishan\")"
   ]
  },
  {
   "cell_type": "code",
   "execution_count": 30,
   "id": "a30bf5f2-304c-4cb8-9a87-768346a80914",
   "metadata": {},
   "outputs": [
    {
     "name": "stdout",
     "output_type": "stream",
     "text": [
      "['Hello, this is my first post!']\n"
     ]
    }
   ],
   "source": [
    "prof.add_posts(\"Hello, this is my first post!\")"
   ]
  },
  {
   "cell_type": "code",
   "execution_count": 31,
   "id": "8656672c-a6cf-42c2-a574-c6e52bdf3371",
   "metadata": {},
   "outputs": [
    {
     "name": "stdout",
     "output_type": "stream",
     "text": [
      "['Hello, this is my first post!', 'Enjoying my day off. #relaxing']\n"
     ]
    }
   ],
   "source": [
    "prof.add_posts(\"Enjoying my day off. #relaxing\")"
   ]
  },
  {
   "cell_type": "code",
   "execution_count": 32,
   "id": "61ccfc7f-cc92-4722-bf11-97dedd807ab9",
   "metadata": {},
   "outputs": [
    {
     "name": "stdout",
     "output_type": "stream",
     "text": [
      "Posts by Ishan:\n",
      "Post at index 1: Hello, this is my first post!\n",
      "Post at index 2: Enjoying my day off. #relaxing\n"
     ]
    }
   ],
   "source": [
    "prof.display_posts()"
   ]
  },
  {
   "cell_type": "code",
   "execution_count": 33,
   "id": "b3567d06-eb5e-4b63-8758-85d1aa3907c4",
   "metadata": {},
   "outputs": [
    {
     "name": "stdout",
     "output_type": "stream",
     "text": [
      "The word 'Hello' is present in the sentence: 'Hello, this is my first post!' at index '1'\n"
     ]
    }
   ],
   "source": [
    "prof.search_posts(\"Hello\")"
   ]
  },
  {
   "cell_type": "code",
   "execution_count": null,
   "id": "707fb5cd-c1c6-4e9e-a179-9889b880bcd9",
   "metadata": {},
   "outputs": [],
   "source": []
  }
 ],
 "metadata": {
  "kernelspec": {
   "display_name": "Python 3 (ipykernel)",
   "language": "python",
   "name": "python3"
  },
  "language_info": {
   "codemirror_mode": {
    "name": "ipython",
    "version": 3
   },
   "file_extension": ".py",
   "mimetype": "text/x-python",
   "name": "python",
   "nbconvert_exporter": "python",
   "pygments_lexer": "ipython3",
   "version": "3.10.8"
  }
 },
 "nbformat": 4,
 "nbformat_minor": 5
}
