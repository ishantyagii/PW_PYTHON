{
 "cells": [
  {
   "cell_type": "markdown",
   "id": "3f37933b-d6bb-434f-86c0-79a66038df02",
   "metadata": {},
   "source": [
    "3. Find the shape, size and dimension of the following array?"
   ]
  },
  {
   "cell_type": "code",
   "execution_count": 2,
   "id": "33488009-dc43-4325-81d3-f5547710a93a",
   "metadata": {},
   "outputs": [],
   "source": [
    "import numpy as np\n",
    "\n",
    "my_list = [[1, 2, 3, 4],[5,6,7,8],[9,10,11,12]]\n",
    "my_array = np.array(my_list)"
   ]
  },
  {
   "cell_type": "code",
   "execution_count": 3,
   "id": "e99b8688-0bf4-4287-a988-cab7d0443380",
   "metadata": {},
   "outputs": [
    {
     "name": "stdout",
     "output_type": "stream",
     "text": [
      "(3, 4)\n"
     ]
    }
   ],
   "source": [
    "print(my_array.shape)"
   ]
  },
  {
   "cell_type": "code",
   "execution_count": 4,
   "id": "71644a47-cd90-451c-aa23-e4e9fda55f2e",
   "metadata": {},
   "outputs": [
    {
     "name": "stdout",
     "output_type": "stream",
     "text": [
      "12\n"
     ]
    }
   ],
   "source": [
    "print(my_array.size)"
   ]
  },
  {
   "cell_type": "markdown",
   "id": "435c709e-8d11-4230-b971-8ff5b293b596",
   "metadata": {},
   "source": [
    "4. Write python code to access the first row of the following array?"
   ]
  },
  {
   "cell_type": "code",
   "execution_count": 5,
   "id": "ada2ea25-08a3-4c94-8ee9-655f5d785ffe",
   "metadata": {},
   "outputs": [],
   "source": [
    "my_list = [[1, 2, 3, 4],[5,6,7,8],[9,10,11,12]]\n",
    "my_array = np.array(my_list)"
   ]
  },
  {
   "cell_type": "code",
   "execution_count": 6,
   "id": "8afdc8d6-a16b-42b9-95a2-5e5d2ca1fa5d",
   "metadata": {},
   "outputs": [
    {
     "name": "stdout",
     "output_type": "stream",
     "text": [
      "[1 2 3 4]\n"
     ]
    }
   ],
   "source": [
    "first_row = my_array[0, :]\n",
    "\n",
    "print(first_row)"
   ]
  },
  {
   "cell_type": "markdown",
   "id": "6e1197e3-335f-484d-b843-a09077207600",
   "metadata": {},
   "source": [
    "### 9.Write code to increase the dimension of the following array? [[1, 2, 3, 4][5, 6, 7, 8], [9, 10, 11, 12]]"
   ]
  },
  {
   "cell_type": "code",
   "execution_count": 1,
   "id": "3360df21-c2d8-473c-b0b7-17ced7f9a7ab",
   "metadata": {},
   "outputs": [
    {
     "name": "stdout",
     "output_type": "stream",
     "text": [
      "Odd-indexed elements:\n",
      "[[ 2  4]\n",
      " [ 6  8]\n",
      " [10 12]]\n"
     ]
    }
   ],
   "source": [
    "import numpy as np\n",
    "\n",
    "# Given NumPy array\n",
    "arr = np.array([[1, 2, 3, 4],\n",
    "                [5, 6, 7, 8],\n",
    "                [9, 10, 11, 12]])\n",
    "\n",
    "# Extracting odd-indexed elements\n",
    "odd_indexed_elements = arr[:, 1::2]\n",
    "\n",
    "# Display the result\n",
    "print(\"Odd-indexed elements:\")\n",
    "print(odd_indexed_elements)\n"
   ]
  },
  {
   "cell_type": "code",
   "execution_count": null,
   "id": "9824229e-bd80-482f-be5a-aceab9d98870",
   "metadata": {},
   "outputs": [],
   "source": []
  }
 ],
 "metadata": {
  "kernelspec": {
   "display_name": "Python 3 (ipykernel)",
   "language": "python",
   "name": "python3"
  },
  "language_info": {
   "codemirror_mode": {
    "name": "ipython",
    "version": 3
   },
   "file_extension": ".py",
   "mimetype": "text/x-python",
   "name": "python",
   "nbconvert_exporter": "python",
   "pygments_lexer": "ipython3",
   "version": "3.10.8"
  }
 },
 "nbformat": 4,
 "nbformat_minor": 5
}
