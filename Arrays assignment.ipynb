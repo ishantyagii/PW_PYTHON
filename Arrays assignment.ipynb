{
 "cells": [
  {
   "cell_type": "markdown",
   "id": "a53b8f92-2e19-4e0f-b036-430286c275a7",
   "metadata": {},
   "source": [
    "### 1.Given an array, check if it contains any duplicates or not."
   ]
  },
  {
   "cell_type": "code",
   "execution_count": 14,
   "id": "8d9409b1-6227-4639-a502-82037ee6dfc9",
   "metadata": {},
   "outputs": [
    {
     "name": "stdout",
     "output_type": "stream",
     "text": [
      "There are duplicates\n"
     ]
    }
   ],
   "source": [
    "arr = [5, 2, 3, 4, 5]\n",
    "has_duplicates = False\n",
    "\n",
    "for i in range(len(arr)):\n",
    "    for j in range(i + 1, len(arr)):\n",
    "        if arr[i] == arr[j]:\n",
    "            has_duplicates = True\n",
    "            break\n",
    "\n",
    "if has_duplicates:\n",
    "    print(\"There are duplicates\")\n",
    "else:\n",
    "    print(\"No duplicates\")\n"
   ]
  },
  {
   "cell_type": "code",
   "execution_count": 9,
   "id": "b19283ca-9b20-4669-9427-dc2b10cdce91",
   "metadata": {},
   "outputs": [
    {
     "name": "stdout",
     "output_type": "stream",
     "text": [
      "1\n",
      "2\n",
      "4\n"
     ]
    }
   ],
   "source": [
    "A=[1,2,4]\n",
    "for x in A:\n",
    "    print(x)"
   ]
  },
  {
   "cell_type": "code",
   "execution_count": 10,
   "id": "cc72e906-5f25-4ce4-803f-f3f7afe8f843",
   "metadata": {},
   "outputs": [
    {
     "name": "stdout",
     "output_type": "stream",
     "text": [
      "0\n",
      "1\n",
      "2\n"
     ]
    }
   ],
   "source": [
    "A=[1,2,4]\n",
    "for x in range(0,len(A)):\n",
    "    print(x)"
   ]
  },
  {
   "cell_type": "markdown",
   "id": "b79f32b4-fdfb-46ca-ab49-79da8102fe2d",
   "metadata": {},
   "source": [
    "### 2. Given an array and an integer k, rotate the array to the right by k steps."
   ]
  },
  {
   "cell_type": "code",
   "execution_count": 2,
   "id": "32b452ca-85a9-45dc-9f0e-635f5bf73e22",
   "metadata": {},
   "outputs": [
    {
     "name": "stdout",
     "output_type": "stream",
     "text": [
      "[3, 4, 5, 1, 2]\n"
     ]
    }
   ],
   "source": [
    "def shift_left(arr, positions):\n",
    "    positions %= len(arr)  \n",
    "    arr[:] = arr[positions:] + arr[:positions]\n",
    "my_list = [1, 2, 3, 4, 5]\n",
    "shift_left(my_list, 2)\n",
    "print(my_list) "
   ]
  },
  {
   "cell_type": "markdown",
   "id": "19e1e62e-f4ee-4ab1-ae1f-c49888e8ec89",
   "metadata": {},
   "source": [
    "### 3.Reverse the given array in-place, means without using any extra data structure."
   ]
  },
  {
   "cell_type": "code",
   "execution_count": 3,
   "id": "9dd23c75-fe62-4cc6-bd00-d4237c45400d",
   "metadata": {},
   "outputs": [
    {
     "name": "stdout",
     "output_type": "stream",
     "text": [
      "[5, 4, 3, 2, 1]\n"
     ]
    }
   ],
   "source": [
    "my_list = [1, 2, 3, 4, 5]\n",
    "my_list.reverse()\n",
    "print(my_list)"
   ]
  },
  {
   "cell_type": "markdown",
   "id": "e8d3bff4-085f-46a6-97da-e14dbb0f1ed6",
   "metadata": {},
   "source": [
    "### 4.Given an array of integers, find the maximum element in an array"
   ]
  },
  {
   "cell_type": "code",
   "execution_count": 7,
   "id": "10a7bb13-07d9-40c6-a4bc-95aea4c105d4",
   "metadata": {},
   "outputs": [
    {
     "name": "stdout",
     "output_type": "stream",
     "text": [
      "5\n"
     ]
    }
   ],
   "source": [
    "arr=[1,2,3,4,5]\n",
    "max=-float('inf')\n",
    "for i in range(0,len(arr)):\n",
    "    if max<arr[i]:\n",
    "        max=arr[i]\n",
    "print(max)        \n",
    "        "
   ]
  },
  {
   "cell_type": "markdown",
   "id": "47ba841a-b7d6-4b7e-93b7-b3bbec6f227c",
   "metadata": {},
   "source": [
    "### 5. Given a sorted array, remove the duplicate element without using any extra data structure."
   ]
  },
  {
   "cell_type": "code",
   "execution_count": 9,
   "id": "92837c56-6603-4711-8a7a-c86f49542c0e",
   "metadata": {},
   "outputs": [
    {
     "name": "stdout",
     "output_type": "stream",
     "text": [
      "[2, 3, 4, 5, 6]\n"
     ]
    }
   ],
   "source": [
    "arr = [2, 2, 2, 3, 3, 4, 4, 4, 5, 5, 6]\n",
    "\n",
    "i = 0\n",
    "while i < len(arr):\n",
    "    j = i + 1\n",
    "    while j < len(arr):\n",
    "        if arr[i] == arr[j]:\n",
    "            arr.pop(j)\n",
    "        else:\n",
    "            j += 1\n",
    "    i += 1\n",
    "\n",
    "print(arr)\n"
   ]
  },
  {
   "cell_type": "code",
   "execution_count": null,
   "id": "123b6939-90e5-47a8-9ef5-2463234be074",
   "metadata": {},
   "outputs": [],
   "source": []
  }
 ],
 "metadata": {
  "kernelspec": {
   "display_name": "Python 3 (ipykernel)",
   "language": "python",
   "name": "python3"
  },
  "language_info": {
   "codemirror_mode": {
    "name": "ipython",
    "version": 3
   },
   "file_extension": ".py",
   "mimetype": "text/x-python",
   "name": "python",
   "nbconvert_exporter": "python",
   "pygments_lexer": "ipython3",
   "version": "3.10.8"
  }
 },
 "nbformat": 4,
 "nbformat_minor": 5
}
