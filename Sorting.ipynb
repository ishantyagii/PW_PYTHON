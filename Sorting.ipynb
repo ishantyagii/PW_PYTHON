{
 "cells": [
  {
   "cell_type": "markdown",
   "id": "d2439f7e-d762-4189-aa94-5967db7eac2b",
   "metadata": {},
   "source": [
    "### Problem 1.Given an array of n numbers, give an algorithm which gives the element appearing maximum number of times?"
   ]
  },
  {
   "cell_type": "code",
   "execution_count": 4,
   "id": "1a6ace8e-f7b2-4d5b-bb28-4f67df424ad6",
   "metadata": {},
   "outputs": [],
   "source": [
    "def maxele(arr):\n",
    "    freqdict={}\n",
    "    for num in arr:\n",
    "        if num in freqdict:\n",
    "            freqdict[num]+=1\n",
    "        else:\n",
    "            freqdict[num]=1\n",
    "    max_freq=1\n",
    "    max_element=None\n",
    "    for num,fre in freqdict.items():\n",
    "        if fre>max_freq:\n",
    "            max_freq=fre\n",
    "            max_element=num\n",
    "        else:\n",
    "            continue\n",
    "    return max_element        \n",
    "         \n",
    "            \n",
    "    \n",
    "    "
   ]
  },
  {
   "cell_type": "code",
   "execution_count": 6,
   "id": "32fe75ec-4ea3-459a-b9fe-bb83ff144779",
   "metadata": {},
   "outputs": [
    {
     "name": "stdout",
     "output_type": "stream",
     "text": [
      "3\n"
     ]
    }
   ],
   "source": [
    "arr=[1,2,3,7,4,3,2,3,1]\n",
    "result=maxele(arr)\n",
    "print(result)"
   ]
  },
  {
   "cell_type": "markdown",
   "id": "ddaebab1-ee80-451b-8137-5cbc39101a73",
   "metadata": {},
   "source": [
    "### Problem 2 : We are given a list of n-1 integers and these integers are in the range of 1 to n . There are no duplicates in the list. One of the integers is missing in the list. Give an algorithm to find that element "
   ]
  },
  {
   "cell_type": "code",
   "execution_count": 21,
   "id": "342ce2c1-5896-4c4a-a430-bd18496d6bad",
   "metadata": {},
   "outputs": [
    {
     "name": "stdout",
     "output_type": "stream",
     "text": [
      "The missing number is: 5\n"
     ]
    }
   ],
   "source": [
    "def find_missing_number(nums):\n",
    "    n = len(nums) + 1  # n is the size of the original list\n",
    "    expected_sum = n * (n + 1) // 2  # Sum of integers from 1 to n\n",
    "\n",
    "    actual_sum = sum(nums)  # Sum of the given list\n",
    "\n",
    "    missing_number = expected_sum - actual_sum\n",
    "    return missing_number\n",
    "\n",
    "# Example usage:\n",
    "nums = [1, 2, 4, 6, 3, 7, 8]\n",
    "result = find_missing_number(nums)\n",
    "print(f\"The missing number is: {result}\")\n"
   ]
  },
  {
   "cell_type": "markdown",
   "id": "2dd2221f-0737-4a2c-abd2-a9578440c04a",
   "metadata": {},
   "source": [
    "### Problem 3 : Given an array of n positive numbers. All numbers occurs even number of times except 1 which occurs odd number of times. Find that number in O(n) time and O(1) space. Ex: [1,2,3,2,3,1,3]. 3 is repeats odd times."
   ]
  },
  {
   "cell_type": "code",
   "execution_count": 6,
   "id": "915cf22d-bfd7-43a2-bf00-ec683dd77497",
   "metadata": {},
   "outputs": [
    {
     "name": "stdout",
     "output_type": "stream",
     "text": [
      "The number that occurs an odd number of times is: 1\n"
     ]
    }
   ],
   "source": [
    "def find_odd_occurrence(arr):\n",
    "    result = 0\n",
    "    for num in arr:\n",
    "        result ^= num\n",
    "    return result\n",
    "arr = [1,1,2,3,2,3,1]\n",
    "result = find_odd_occurrence(arr)\n",
    "print(f\"The number that occurs an odd number of times is: {result}\")\n",
    "\n",
    "            "
   ]
  },
  {
   "cell_type": "markdown",
   "id": "99edd5b6-6a39-4fc8-b3de-1a369fec34e1",
   "metadata": {},
   "source": [
    "### Problem 5 :Given an array of both positive and negative numbers, find two numbers such that their sum is closest to 0. Ex: [ 1 ,60 ,-10, 70, -80,85]. Ans : -80,85."
   ]
  },
  {
   "cell_type": "code",
   "execution_count": 1,
   "id": "361dc943-d093-4048-b032-dbc06d623ff0",
   "metadata": {},
   "outputs": [
    {
     "name": "stdout",
     "output_type": "stream",
     "text": [
      "Closest sum to 0 pair: (-80, 85)\n"
     ]
    }
   ],
   "source": [
    "def closest_sum_to_zero(arr):\n",
    "    arr.sort()  # Sort the array\n",
    "\n",
    "    # Initialize variables to track the pair with the closest sum to 0\n",
    "    closest_sum = float('inf')\n",
    "    result_pair = None\n",
    "\n",
    "    # Two pointers approach\n",
    "    left, right = 0, len(arr) - 1\n",
    "\n",
    "    while left < right:\n",
    "        current_sum = arr[left] + arr[right]\n",
    "\n",
    "        # Update closest_sum and result_pair if the current pair has a closer sum to 0\n",
    "        if abs(current_sum) < abs(closest_sum):\n",
    "            closest_sum = current_sum\n",
    "            result_pair = (arr[left], arr[right])\n",
    "\n",
    "        # Move pointers based on the current_sum\n",
    "        if current_sum < 0:\n",
    "            left += 1\n",
    "        elif current_sum > 0:\n",
    "            right -= 1\n",
    "        else:\n",
    "            # If the sum is 0, we found the pair with the closest sum\n",
    "            return result_pair\n",
    "\n",
    "    return result_pair\n",
    "\n",
    "# Example usage:\n",
    "arr = [1, 60, -10, 70, -80, 85]\n",
    "result = closest_sum_to_zero(arr)\n",
    "print(\"Closest sum to 0 pair:\", result)\n"
   ]
  },
  {
   "cell_type": "code",
   "execution_count": null,
   "id": "fc804eff-5758-4fb0-bfc5-3b9e5ef7801f",
   "metadata": {},
   "outputs": [],
   "source": []
  }
 ],
 "metadata": {
  "kernelspec": {
   "display_name": "Python 3 (ipykernel)",
   "language": "python",
   "name": "python3"
  },
  "language_info": {
   "codemirror_mode": {
    "name": "ipython",
    "version": 3
   },
   "file_extension": ".py",
   "mimetype": "text/x-python",
   "name": "python",
   "nbconvert_exporter": "python",
   "pygments_lexer": "ipython3",
   "version": "3.10.8"
  }
 },
 "nbformat": 4,
 "nbformat_minor": 5
}
