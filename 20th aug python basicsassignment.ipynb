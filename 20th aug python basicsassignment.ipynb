{
 "cells": [
  {
   "cell_type": "markdown",
   "id": "9d9e539a-ac4f-4c1c-8edf-d6f7a9f3cf4b",
   "metadata": {},
   "source": [
    "1. Write a program to reverse a string."
   ]
  },
  {
   "cell_type": "code",
   "execution_count": 2,
   "id": "27a82898-99b1-4d60-8f22-6be72df43835",
   "metadata": {},
   "outputs": [
    {
     "name": "stdin",
     "output_type": "stream",
     "text": [
      "Enter string ISHAN\n"
     ]
    },
    {
     "name": "stdout",
     "output_type": "stream",
     "text": [
      "NAHSI\n"
     ]
    }
   ],
   "source": [
    "A=str(input(\"Enter string\"))\n",
    "A=A[::-1]\n",
    "print(A)"
   ]
  },
  {
   "cell_type": "markdown",
   "id": "35ad51f2-b097-4eb1-ab17-10a80682816e",
   "metadata": {},
   "source": [
    "2.Check if a string is a palindrome."
   ]
  },
  {
   "cell_type": "code",
   "execution_count": 7,
   "id": "029034a3-5bfb-4ad0-bc99-db42764cb7ae",
   "metadata": {},
   "outputs": [
    {
     "name": "stdin",
     "output_type": "stream",
     "text": [
      "Enter string madam\n"
     ]
    },
    {
     "name": "stdout",
     "output_type": "stream",
     "text": [
      "Its palindrome\n"
     ]
    }
   ],
   "source": [
    "A=str(input(\"Enter string\"))\n",
    "def pal(s):\n",
    "    for i in range(0,int(len(A)/2)):\n",
    "        if A[i]!=A[len(A)-i-1]:\n",
    "            return 0\n",
    "    return 1\n",
    "x=pal(A)\n",
    "if(x==1):\n",
    "                   print(\"Its palindrome\")\n",
    "else:\n",
    "                   print(\"Its not palindrome\")\n",
    "                         "
   ]
  },
  {
   "cell_type": "markdown",
   "id": "889b8c7f-6ac7-4228-a6e1-ee5bec08ef01",
   "metadata": {},
   "source": [
    " 3.Convert a string to uppercase."
   ]
  },
  {
   "cell_type": "code",
   "execution_count": 9,
   "id": "5276e57a-f328-46dd-a5a7-13ad4f207876",
   "metadata": {},
   "outputs": [
    {
     "name": "stdout",
     "output_type": "stream",
     "text": [
      "HELLO\n"
     ]
    }
   ],
   "source": [
    "A=\"hello\"\n",
    "A=A.upper()\n",
    "print(A)"
   ]
  },
  {
   "cell_type": "markdown",
   "id": "ead1739c-e4ad-498b-9bf1-908f6599fbbb",
   "metadata": {},
   "source": [
    "5.Count the number of vowels in a string."
   ]
  },
  {
   "cell_type": "code",
   "execution_count": 1,
   "id": "34989051-1263-426e-be30-8f3ac70bf2ac",
   "metadata": {},
   "outputs": [
    {
     "name": "stdin",
     "output_type": "stream",
     "text": [
      "Enter string ishan is a\n"
     ]
    },
    {
     "name": "stdout",
     "output_type": "stream",
     "text": [
      "4\n"
     ]
    }
   ],
   "source": [
    "A=str(input(\"Enter string\"))\n",
    "A=A.split()\n",
    "c=0\n",
    "for i in range(0,int(len(A))):\n",
    "    if A[i]==\"a\":\n",
    "        c=c+1\n",
    "    elif A[i]==\"e\":\n",
    "        c=c+1\n",
    "    elif A[i]==\"i\":\n",
    "        c=c+1\n",
    "    elif A[i]==\"o\":\n",
    "        c=c+1\n",
    "    elif A[i]==\"u\":\n",
    "        c=c+1    \n",
    "print(c)"
   ]
  },
  {
   "cell_type": "markdown",
   "id": "7a53446b-203b-41d2-a6ee-2afde843a6c3",
   "metadata": {},
   "source": [
    "8. Find the length of a string without using the `len()` function."
   ]
  },
  {
   "cell_type": "code",
   "execution_count": 5,
   "id": "7b3512db-3c55-4d5f-b3c8-9397cb8defc3",
   "metadata": {},
   "outputs": [
    {
     "name": "stdin",
     "output_type": "stream",
     "text": [
      "Enter string ishan\n"
     ]
    },
    {
     "name": "stdout",
     "output_type": "stream",
     "text": [
      "5\n"
     ]
    }
   ],
   "source": [
    "A=str(input(\"Enter string\"))\n",
    "c=0;\n",
    "for i in range(0,int(len(A))):\n",
    "    c=c+1\n",
    "print(c)    "
   ]
  },
  {
   "cell_type": "markdown",
   "id": "104deb0a-1960-4ff6-b46e-e7fdbf6a38f2",
   "metadata": {},
   "source": [
    "9. Check if a string contains a specific word."
   ]
  },
  {
   "cell_type": "code",
   "execution_count": 1,
   "id": "0c9d6586-588b-45c0-8c8f-19fc113847c9",
   "metadata": {},
   "outputs": [
    {
     "name": "stdout",
     "output_type": "stream",
     "text": [
      "yes\n"
     ]
    }
   ],
   "source": [
    "\n",
    "string = \"my name is ishan\"   \n",
    "substring = \"name\"  \n",
    "\n",
    "s = string.split()\n",
    "\n",
    "if substring in s:\n",
    "    print(\"yes\")\n",
    "else:\n",
    "    print(\"no\")"
   ]
  },
  {
   "cell_type": "markdown",
   "id": "bbe76c91-c3cb-4a55-a637-2578764feec7",
   "metadata": {},
   "source": [
    "11. Count the occurrences of a word in a string."
   ]
  },
  {
   "cell_type": "code",
   "execution_count": 27,
   "id": "b7b96e0e-1b91-4074-b2f3-0d8fd468644c",
   "metadata": {},
   "outputs": [
    {
     "name": "stdin",
     "output_type": "stream",
     "text": [
      "Enter string ishan studies data\n",
      "Enter word you want to search data\n"
     ]
    },
    {
     "name": "stdout",
     "output_type": "stream",
     "text": [
      "it occurs with count 1\n"
     ]
    }
   ],
   "source": [
    "A=input(\"Enter string\")\n",
    "b=input(\"Enter word you want to search\") \n",
    "r=A.split()\n",
    "c=0\n",
    "for i in range(0,int(len(r))):\n",
    "    if b==r[i]:\n",
    "        c=c+1\n",
    "\n",
    "if(c>0):    \n",
    "    print(\"it occurs with count\",c)        \n",
    "else:\n",
    "    print(\"The word does not occur \")\n"
   ]
  },
  {
   "cell_type": "markdown",
   "id": "47cbfea6-e8e5-484e-8757-615200c14217",
   "metadata": {},
   "source": [
    "12. Find the first occurrence of a word in a string."
   ]
  },
  {
   "cell_type": "code",
   "execution_count": 28,
   "id": "db41f7de-9922-4b43-aecc-cc7cae959594",
   "metadata": {},
   "outputs": [
    {
     "name": "stdin",
     "output_type": "stream",
     "text": [
      "Enter string ishan studies data\n",
      "Enter word you want to search data\n"
     ]
    },
    {
     "name": "stdout",
     "output_type": "stream",
     "text": [
      "The first occurence of word position is  2\n"
     ]
    }
   ],
   "source": [
    "A=input(\"Enter string\")\n",
    "b=input(\"Enter word you want to search\") \n",
    "r=A.split()\n",
    "c=-1\n",
    "def occ(q):\n",
    "    for i in range (0,int(len(r))):\n",
    "        global c\n",
    "        c=c+1\n",
    "        if b==r[i]:\n",
    "            return 1\n",
    "        \n",
    "    return 0    \n",
    "x=occ(r)\n",
    "if (x==1):\n",
    "    print(\"The first occurence of word position is \",c)\n",
    "else:\n",
    "    print(\"The word is not there\")\n",
    "          "
   ]
  },
  {
   "cell_type": "markdown",
   "id": "0d98fc6a-3409-4f2a-96f8-aa98fb1f847c",
   "metadata": {},
   "source": [
    "13. Find the last occurrence of a word in a string."
   ]
  },
  {
   "cell_type": "code",
   "execution_count": 46,
   "id": "2b7a43fd-0d18-4c81-9db4-589d62d64b31",
   "metadata": {},
   "outputs": [
    {
     "name": "stdin",
     "output_type": "stream",
     "text": [
      "Enter a string:  ishan studies data\n",
      "Enter the word you want to search:  data\n"
     ]
    },
    {
     "name": "stdout",
     "output_type": "stream",
     "text": [
      "The last occurrence of the word is at position: 2\n"
     ]
    }
   ],
   "source": [
    "A = input(\"Enter a string: \")\n",
    "b = input(\"Enter the word you want to search: \")\n",
    "r = A.split()\n",
    "\n",
    "def occ(q):\n",
    "    for i in range(len(q) - 1, -1, -1):  # Iterate in reverse\n",
    "        if b == q[i]:\n",
    "            return i  # Return the index when the word is found\n",
    "\n",
    "    return -1  # Return -1 if the word is not found\n",
    "\n",
    "position = occ(r)\n",
    "\n",
    "if position != -1:\n",
    "    print(\"The last occurrence of the word is at position:\", position)\n",
    "else:\n",
    "    print(\"The word is not there\")"
   ]
  },
  {
   "cell_type": "markdown",
   "id": "3207dea5-ce10-4d7a-8496-8d203c4a03ed",
   "metadata": {},
   "source": [
    "21 Find the shortest word in a string."
   ]
  },
  {
   "cell_type": "code",
   "execution_count": 1,
   "id": "0f2580ea-c560-4630-8d14-4815257de37b",
   "metadata": {},
   "outputs": [
    {
     "name": "stdin",
     "output_type": "stream",
     "text": [
      "Enter a string:  ishan studies data\n"
     ]
    },
    {
     "name": "stdout",
     "output_type": "stream",
     "text": [
      "The shortest word is: data\n"
     ]
    }
   ],
   "source": [
    "A = input(\"Enter a string: \")\n",
    "r = A.split()\n",
    "def short(p):\n",
    "    min_len=float('inf')\n",
    "    shortword=None\n",
    "    for i in r:\n",
    "        if len(i)<min_len:\n",
    "            min_len=len(i)\n",
    "            shortword=i\n",
    "    return shortword        \n",
    "\n",
    "x=short(r)\n",
    "print(\"The shortest word is:\",x)\n",
    "\n"
   ]
  },
  {
   "cell_type": "markdown",
   "id": "9da4a757-13a9-4eb9-b53d-fca2cdcd7a68",
   "metadata": {},
   "source": [
    "45 Find all unique words in string"
   ]
  },
  {
   "cell_type": "code",
   "execution_count": 6,
   "id": "bb6b443a-c242-4306-81e7-11d2a914d778",
   "metadata": {},
   "outputs": [
    {
     "name": "stdin",
     "output_type": "stream",
     "text": [
      "Enter a string:  ishan ishan is tyagi tyagi\n"
     ]
    },
    {
     "name": "stdout",
     "output_type": "stream",
     "text": [
      "The unique words are : ['is']\n"
     ]
    }
   ],
   "source": [
    "A = input(\"Enter a string: \")\n",
    "r = A.split()\n",
    "q=[]\n",
    "c=0\n",
    "for x in r:\n",
    "    for y in r:\n",
    "        if x==y:\n",
    "            c=c+1\n",
    "    if c==1:\n",
    "        q.append(x)\n",
    "    c=0\n",
    "print(\"The unique words are :\",q)        "
   ]
  },
  {
   "cell_type": "markdown",
   "id": "2804f67f-b51e-4bf0-9c12-3204baed79b1",
   "metadata": {},
   "source": [
    "LIST BASED PROBLEMS"
   ]
  },
  {
   "cell_type": "markdown",
   "id": "5b2d47ce-c29c-49b2-9ab0-ed93714f4e3b",
   "metadata": {},
   "source": [
    "4. Insert an element at a specific index in a list."
   ]
  },
  {
   "cell_type": "code",
   "execution_count": 5,
   "id": "fdaaa1ca-bdac-4dd1-b4ca-c8d03a247ab7",
   "metadata": {},
   "outputs": [
    {
     "name": "stdin",
     "output_type": "stream",
     "text": [
      "Enter numbers:  10 20 30 40 50\n",
      "Enter index where you want to insert 2\n",
      "Enter number you want to insert 60\n"
     ]
    },
    {
     "name": "stdout",
     "output_type": "stream",
     "text": [
      "['10', '20', 60, '30', '40', '50']\n",
      "['30', '40', '50']\n"
     ]
    }
   ],
   "source": [
    "A = input(\"Enter numbers: \")\n",
    "r=A.split()\n",
    "B=int(input(\"Enter index where you want to insert\"))\n",
    "C=int(input(\"Enter number you want to insert\"))\n",
    "h=[]\n",
    "k=[]\n",
    "for i in range(0,len(r)-B-1):\n",
    "    h.append(r[i])\n",
    "h.insert(len(h),C)    \n",
    "for i in range(B,len(r)):\n",
    "    k.append(r[i])  \n",
    "h=h+k    \n",
    "print(h)  \n",
    "print(k)"
   ]
  },
  {
   "cell_type": "code",
   "execution_count": 3,
   "id": "c02eb4b6-0434-4a71-92b9-de38b9c99711",
   "metadata": {},
   "outputs": [
    {
     "name": "stdin",
     "output_type": "stream",
     "text": [
      "Enter string ishan is\n"
     ]
    },
    {
     "name": "stdout",
     "output_type": "stream",
     "text": [
      "i\n",
      "s\n",
      "h\n",
      "a\n",
      "n\n",
      " \n",
      "i\n",
      "s\n"
     ]
    }
   ],
   "source": [
    "A=str(input(\"Enter string\"))\n",
    "for i in range(0,int(len(A))):\n",
    "    print(A[i])"
   ]
  },
  {
   "cell_type": "code",
   "execution_count": 4,
   "id": "1240e752-31ee-4fa8-9462-f63433912a31",
   "metadata": {},
   "outputs": [
    {
     "name": "stdin",
     "output_type": "stream",
     "text": [
      "Enter string ishan is\n"
     ]
    },
    {
     "name": "stdout",
     "output_type": "stream",
     "text": [
      "ishan is\n",
      "ishan is\n",
      "ishan is\n",
      "ishan is\n",
      "ishan is\n",
      "ishan is\n",
      "ishan is\n",
      "ishan is\n"
     ]
    }
   ],
   "source": [
    "A=str(input(\"Enter string\"))\n",
    "for i in range(0,int(len(A))):\n",
    "    print(A)"
   ]
  },
  {
   "cell_type": "code",
   "execution_count": 9,
   "id": "5e791505-d675-479b-89a9-3eb47e4d98e4",
   "metadata": {},
   "outputs": [
    {
     "name": "stdin",
     "output_type": "stream",
     "text": [
      "Enter string ishan is\n"
     ]
    },
    {
     "name": "stdout",
     "output_type": "stream",
     "text": [
      "ishan\n",
      "is\n"
     ]
    }
   ],
   "source": [
    "A=str(input(\"Enter string\"))\n",
    "A=A.split()\n",
    "for i in range(0,int(len(A))):\n",
    "    print(A[i])"
   ]
  },
  {
   "cell_type": "code",
   "execution_count": 8,
   "id": "56e1ec31-e470-40e5-b00e-c398c44e369f",
   "metadata": {},
   "outputs": [
    {
     "name": "stdin",
     "output_type": "stream",
     "text": [
      "Enter string ishan is\n"
     ]
    },
    {
     "name": "stdout",
     "output_type": "stream",
     "text": [
      "['ishan', 'is']\n",
      "['ishan', 'is']\n"
     ]
    }
   ],
   "source": [
    "A=str(input(\"Enter string\"))\n",
    "A=A.split()\n",
    "for i in range(0,int(len(A))):\n",
    "    print(A)"
   ]
  },
  {
   "cell_type": "code",
   "execution_count": 7,
   "id": "bc3181d4-fd20-43d2-913b-906a65c3d3be",
   "metadata": {},
   "outputs": [
    {
     "name": "stdin",
     "output_type": "stream",
     "text": [
      "Enter string ishan is\n"
     ]
    },
    {
     "name": "stdout",
     "output_type": "stream",
     "text": [
      "0\n",
      "1\n",
      "2\n",
      "3\n",
      "4\n",
      "5\n",
      "6\n",
      "7\n"
     ]
    }
   ],
   "source": [
    "A=str(input(\"Enter string\"))\n",
    "for i in range(0,int(len(A))):\n",
    "    print(i)"
   ]
  },
  {
   "cell_type": "markdown",
   "id": "4321f5be-eed1-41b6-9494-27702ec9222b",
   "metadata": {},
   "source": [
    "7. Remove an element from a list by its index."
   ]
  },
  {
   "cell_type": "code",
   "execution_count": 7,
   "id": "dd5623de-6924-42a7-a4dc-32c8172e363f",
   "metadata": {},
   "outputs": [
    {
     "name": "stdin",
     "output_type": "stream",
     "text": [
      "Enter numbers:  10 20 30 40 50\n",
      "Enter index where you want to insert 2\n"
     ]
    },
    {
     "name": "stdout",
     "output_type": "stream",
     "text": [
      "['10', '20', '40', '50']\n"
     ]
    }
   ],
   "source": [
    "A = input(\"Enter numbers: \")\n",
    "r=A.split()\n",
    "index=int(input(\"Enter index where you want to insert\"))\n",
    "h=[] \n",
    "for i in range (0,len(r)):\n",
    "    if i!=index:\n",
    "        h.append(r[i])\n",
    "print(h)    \n",
    "    "
   ]
  },
  {
   "cell_type": "code",
   "execution_count": null,
   "id": "85f8af1e-c321-4bd5-9e24-6a18a75e7131",
   "metadata": {},
   "outputs": [],
   "source": []
  }
 ],
 "metadata": {
  "kernelspec": {
   "display_name": "Python 3 (ipykernel)",
   "language": "python",
   "name": "python3"
  },
  "language_info": {
   "codemirror_mode": {
    "name": "ipython",
    "version": 3
   },
   "file_extension": ".py",
   "mimetype": "text/x-python",
   "name": "python",
   "nbconvert_exporter": "python",
   "pygments_lexer": "ipython3",
   "version": "3.10.8"
  }
 },
 "nbformat": 4,
 "nbformat_minor": 5
}
