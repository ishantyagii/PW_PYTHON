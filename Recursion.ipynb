{
 "cells": [
  {
   "cell_type": "markdown",
   "id": "3058c980-c195-4980-8ae9-cea8b1e715b2",
   "metadata": {},
   "source": [
    "### Q. 3 Print the max value of the array [ 13, 1, -3, 22, 5]."
   ]
  },
  {
   "cell_type": "code",
   "execution_count": 1,
   "id": "8a62add3-3124-492d-9960-c17ac6f65da9",
   "metadata": {},
   "outputs": [
    {
     "name": "stdout",
     "output_type": "stream",
     "text": [
      "5\n"
     ]
    }
   ],
   "source": [
    "def maxx(arr):\n",
    "    if len(arr) == 1:\n",
    "        return arr[0]\n",
    "    else:\n",
    "        sub_max = maxx(arr[1:])\n",
    "        return arr[0] if arr[0] > sub_max else sub_max\n",
    "arr = [1, 3, 2, 5, 4]\n",
    "print(maxx(arr)) \n",
    "     "
   ]
  },
  {
   "cell_type": "markdown",
   "id": "82a1f03c-8719-43e5-88ef-bd5438c1ce33",
   "metadata": {},
   "source": [
    "### Q.4 Find the sum of the values of the array [92, 23, 15, -20, 10]."
   ]
  },
  {
   "cell_type": "code",
   "execution_count": 3,
   "id": "a1252751-d0c8-422c-bffb-db85cd6d050b",
   "metadata": {},
   "outputs": [
    {
     "name": "stdout",
     "output_type": "stream",
     "text": [
      "15\n"
     ]
    }
   ],
   "source": [
    "def summ(ar):\n",
    "    if len(ar)==1:\n",
    "        return ar[0]\n",
    "    else:\n",
    "        sum1=summ(ar[1:])\n",
    "        return ar[0]+sum1 if len(ar)>1 else sum1\n",
    "ar = [1, 3, 2, 5, 4]\n",
    "print(summ(ar))         "
   ]
  },
  {
   "cell_type": "markdown",
   "id": "0a34d185-b023-424a-a3c8-c0f742b0ddfb",
   "metadata": {},
   "source": [
    "### Q.5 Given a number n. Print if it is an armstrong number or not.An armstrong number is a number if the sum of every digit in that number raised to the power of total digits in that number is equal to the number."
   ]
  },
  {
   "cell_type": "code",
   "execution_count": 3,
   "id": "6d5d3cb2-0d2d-4f95-aec1-60c0369840d4",
   "metadata": {},
   "outputs": [
    {
     "name": "stdout",
     "output_type": "stream",
     "text": [
      "153\n"
     ]
    }
   ],
   "source": [
    "def arm(q):\n",
    "    e = str(q)\n",
    "    w = len(e)\n",
    "    if w == 1:\n",
    "        return q**3\n",
    "    else:\n",
    "        slic = arm(int(e[1:]))  \n",
    "        if w > 1:\n",
    "            return int(e[0])**3 + slic\n",
    "        else:\n",
    "            return slic \n",
    "number = 153\n",
    "print(arm(number))\n"
   ]
  },
  {
   "cell_type": "code",
   "execution_count": null,
   "id": "01d17118-831f-4763-a476-dd98e633489f",
   "metadata": {},
   "outputs": [],
   "source": []
  }
 ],
 "metadata": {
  "kernelspec": {
   "display_name": "Python 3 (ipykernel)",
   "language": "python",
   "name": "python3"
  },
  "language_info": {
   "codemirror_mode": {
    "name": "ipython",
    "version": 3
   },
   "file_extension": ".py",
   "mimetype": "text/x-python",
   "name": "python",
   "nbconvert_exporter": "python",
   "pygments_lexer": "ipython3",
   "version": "3.10.8"
  }
 },
 "nbformat": 4,
 "nbformat_minor": 5
}
